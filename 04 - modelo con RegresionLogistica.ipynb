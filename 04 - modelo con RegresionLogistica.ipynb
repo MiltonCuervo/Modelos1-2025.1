{
 "cells": [
  {
   "cell_type": "code",
   "execution_count": null,
   "id": "7aed956b",
   "metadata": {},
   "outputs": [],
   "source": [
    "%pip install pandas scikit-learn xgboost matplotlib seaborn\n",
    "\n",
    "import pandas as pd\n",
    "import numpy as np\n",
    "import os\n",
    "from sklearn.model_selection import train_test_split, StratifiedKFold, RandomizedSearchCV\n",
    "from sklearn.metrics import accuracy_score\n",
    "from sklearn.preprocessing import LabelEncoder\n",
    "from sklearn.model_selection import train_test_split\n",
    "from sklearn.metrics import accuracy_score, classification_report, confusion_matrix\n",
    "from sklearn.linear_model import LogisticRegression\n",
    "import matplotlib.pyplot as plt\n",
    "import seaborn as sns\n"
   ]
  },
  {
   "cell_type": "markdown",
   "id": "ef4d71a0",
   "metadata": {},
   "source": [
    "Datos de la competencia"
   ]
  },
  {
   "cell_type": "code",
   "execution_count": null,
   "id": "90a9b6e5",
   "metadata": {},
   "outputs": [],
   "source": [
    "!mkdir -p ~/.kaggle\n",
    "!mv kaggle.json ~/.kaggle/\n",
    "!chmod 600 ~/.kaggle/kaggle.json\n",
    "!kaggle competitions download -c udea-ai-4-eng-20251-pruebas-saber-pro-colombia\n",
    "!unzip -l udea-ai-4-eng-20251-pruebas-saber-pro-colombia.zip\n",
    "!unzip udea-ai-4-eng-20251-pruebas-saber-pro-colombia.zip"
   ]
  },
  {
   "cell_type": "markdown",
   "id": "3fa145d9",
   "metadata": {},
   "source": [
    "Carga de datos"
   ]
  },
  {
   "cell_type": "code",
   "execution_count": null,
   "id": "2088bfb2",
   "metadata": {},
   "outputs": [
    {
     "name": "stdout",
     "output_type": "stream",
     "text": [
      "Train shape: (692500, 21)\n",
      "Test shape: (296786, 20)\n"
     ]
    }
   ],
   "source": [
    "train_df = pd.read_csv(\"train.csv\")\n",
    "test_df = pd.read_csv(\"test.csv\")\n",
    "\n",
    "print(f\"Train shape: {train_df.shape}\")\n",
    "print(f\"Test shape: {test_df.shape}\")"
   ]
  },
  {
   "cell_type": "markdown",
   "id": "eb986ee8",
   "metadata": {},
   "source": [
    "Limpieza y optimización"
   ]
  },
  {
   "cell_type": "code",
   "execution_count": null,
   "id": "d4ef9f2f",
   "metadata": {},
   "outputs": [
    {
     "name": "stdout",
     "output_type": "stream",
     "text": [
      "Clases únicas en y: ['medio-alto' 'bajo' 'alto' 'medio-bajo']\n",
      "Distribución de clases:\n",
      "RENDIMIENTO_GLOBAL\n",
      "alto          175619\n",
      "bajo          172987\n",
      "medio-bajo    172275\n",
      "medio-alto    171619\n",
      "Name: count, dtype: int64\n",
      "\n",
      "Clases codificadas: ['alto' 'bajo' 'medio-alto' 'medio-bajo']\n",
      "Mapeo: {0: 'alto', 1: 'bajo', 2: 'medio-alto', 3: 'medio-bajo'}\n",
      "\n",
      "Columnas categóricas: ['ESTU_PRGM_ACADEMICO', 'ESTU_PRGM_DEPARTAMENTO', 'ESTU_VALORMATRICULAUNIVERSIDAD', 'ESTU_HORASSEMANATRABAJA', 'FAMI_ESTRATOVIVIENDA', 'FAMI_TIENEINTERNET', 'FAMI_EDUCACIONPADRE', 'FAMI_TIENELAVADORA', 'FAMI_TIENEAUTOMOVIL', 'ESTU_PRIVADO_LIBERTAD', 'ESTU_PAGOMATRICULAPROPIO', 'FAMI_TIENECOMPUTADOR', 'FAMI_TIENEINTERNET.1', 'FAMI_EDUCACIONMADRE']\n",
      "Número de columnas categóricas: 14\n",
      "Columna ESTU_PRGM_ACADEMICO: 21 categorías únicas\n",
      "Columna ESTU_PRGM_ACADEMICO: 21 categorías únicas\n",
      "Columna ESTU_PRGM_DEPARTAMENTO: 21 categorías únicas\n",
      "Columna ESTU_PRGM_DEPARTAMENTO: 21 categorías únicas\n",
      "Columna ESTU_VALORMATRICULAUNIVERSIDAD: 9 categorías únicas\n",
      "Columna ESTU_VALORMATRICULAUNIVERSIDAD: 9 categorías únicas\n",
      "Columna ESTU_HORASSEMANATRABAJA: 6 categorías únicas\n",
      "Columna ESTU_HORASSEMANATRABAJA: 6 categorías únicas\n",
      "Columna FAMI_ESTRATOVIVIENDA: 8 categorías únicas\n",
      "Columna FAMI_ESTRATOVIVIENDA: 8 categorías únicas\n",
      "Columna FAMI_TIENEINTERNET: 3 categorías únicas\n",
      "Columna FAMI_TIENEINTERNET: 3 categorías únicas\n",
      "Columna FAMI_EDUCACIONPADRE: 13 categorías únicas\n",
      "Columna FAMI_EDUCACIONPADRE: 13 categorías únicas\n",
      "Columna FAMI_TIENELAVADORA: 3 categorías únicas\n",
      "Columna FAMI_TIENELAVADORA: 3 categorías únicas\n",
      "Columna FAMI_TIENEAUTOMOVIL: 3 categorías únicas\n",
      "Columna FAMI_TIENEAUTOMOVIL: 3 categorías únicas\n",
      "Columna ESTU_PRIVADO_LIBERTAD: 2 categorías únicas\n",
      "Columna ESTU_PRIVADO_LIBERTAD: 2 categorías únicas\n",
      "Columna ESTU_PAGOMATRICULAPROPIO: 3 categorías únicas\n",
      "Columna ESTU_PAGOMATRICULAPROPIO: 3 categorías únicas\n",
      "Columna FAMI_TIENECOMPUTADOR: 3 categorías únicas\n",
      "Columna FAMI_TIENECOMPUTADOR: 3 categorías únicas\n",
      "Columna FAMI_TIENEINTERNET.1: 3 categorías únicas\n",
      "Columna FAMI_TIENEINTERNET.1: 3 categorías únicas\n",
      "Columna FAMI_EDUCACIONMADRE: 13 categorías únicas\n",
      "\n",
      "Shape final: (692500, 20)\n",
      "Memoria significativamente reducida ✅\n",
      "Columna FAMI_EDUCACIONMADRE: 13 categorías únicas\n",
      "\n",
      "Shape final: (692500, 20)\n",
      "Memoria significativamente reducida ✅\n"
     ]
    }
   ],
   "source": [
    "X = train_df.drop(columns=[\"RENDIMIENTO_GLOBAL\"])\n",
    "y = train_df[\"RENDIMIENTO_GLOBAL\"]\n",
    "\n",
    "print(f\"Clases únicas en y: {y.unique()}\")\n",
    "print(f\"Distribución de clases:\")\n",
    "print(y.value_counts())\n",
    "\n",
    "# Codificar la variable objetivo\n",
    "label_encoder = LabelEncoder()\n",
    "y_encoded = label_encoder.fit_transform(y)\n",
    "print(f\"\\nClases codificadas: {label_encoder.classes_}\")\n",
    "print(f\"Mapeo: {dict(zip(range(len(label_encoder.classes_)), label_encoder.classes_))}\")\n",
    "\n",
    "# Detectar columnas categóricas\n",
    "categorical_features = X.select_dtypes(include=['object', 'category']).columns.tolist()\n",
    "print(f\"\\nColumnas categóricas: {categorical_features}\")\n",
    "print(f\"Número de columnas categóricas: {len(categorical_features)}\")\n",
    "\n",
    "# Limpiar NaN categóricas\n",
    "for col in categorical_features:\n",
    "    X[col] = X[col].fillna(\"Unknown\")\n",
    "\n",
    "# Limpiar NaN numéricas\n",
    "numeric_features = X.select_dtypes(include=['int64', 'float64']).columns.tolist()\n",
    "for col in numeric_features:\n",
    "    X[col] = X[col].fillna(X[col].median())\n",
    "\n",
    "# OPTIMIZACIÓN: Usar LabelEncoder para categóricas en lugar de one-hot encoding\n",
    "categorical_encoders = {}\n",
    "X_processed = X.copy()\n",
    "\n",
    "for col in categorical_features:\n",
    "    # Limitar categorías para reducir memoria\n",
    "    value_counts = X[col].value_counts()\n",
    "    \n",
    "    # Mantener solo las top 20 categorías más frecuentes\n",
    "    top_categories = value_counts.head(20).index.tolist()\n",
    "    \n",
    "    # Reemplazar categorías raras con \"Other\"\n",
    "    X_processed[col] = X_processed[col].apply(\n",
    "        lambda x: x if x in top_categories else \"Other\"\n",
    "    )\n",
    "    \n",
    "    # Aplicar LabelEncoder\n",
    "    le = LabelEncoder()\n",
    "    X_processed[col] = le.fit_transform(X_processed[col])\n",
    "    categorical_encoders[col] = le\n",
    "    \n",
    "    print(f\"Columna {col}: {len(le.classes_)} categorías únicas\")\n",
    "\n",
    "# Convertir a tipos de datos más eficientes\n",
    "for col in X_processed.columns:\n",
    "    if X_processed[col].dtype == 'float64':\n",
    "        X_processed[col] = X_processed[col].astype('float32')\n",
    "    elif X_processed[col].dtype == 'int64':\n",
    "        X_processed[col] = X_processed[col].astype('int32')\n",
    "\n",
    "print(f\"\\nShape final: {X_processed.shape}\")\n",
    "print(f\"Memoria significativamente reducida ✅\")"
   ]
  },
  {
   "cell_type": "markdown",
   "id": "99166808",
   "metadata": {},
   "source": [
    "Entrenamiento del modelo"
   ]
  },
  {
   "cell_type": "code",
   "execution_count": null,
   "id": "cbacf3fe",
   "metadata": {},
   "outputs": [
    {
     "name": "stdout",
     "output_type": "stream",
     "text": [
      "X_train shape: (554000, 20)\n",
      "y_train shape: (554000,)\n",
      "Clases en y_train: [0 1 2 3]\n",
      "Entrenando modelo...\n"
     ]
    },
    {
     "name": "stderr",
     "output_type": "stream",
     "text": [
      "C:\\Users\\Usuario\\AppData\\Roaming\\Python\\Python313\\site-packages\\sklearn\\linear_model\\_logistic.py:1264: FutureWarning: 'multi_class' was deprecated in version 1.5 and will be removed in 1.7. From then on, it will always use 'multinomial'. Leave it to its default value to avoid this warning.\n",
      "  warnings.warn(\n"
     ]
    },
    {
     "name": "stdout",
     "output_type": "stream",
     "text": [
      "✅ Modelo entrenado correctamente\n"
     ]
    },
    {
     "name": "stderr",
     "output_type": "stream",
     "text": [
      "C:\\Users\\Usuario\\AppData\\Roaming\\Python\\Python313\\site-packages\\sklearn\\linear_model\\_logistic.py:470: ConvergenceWarning: lbfgs failed to converge after 1000 iteration(s) (status=1):\n",
      "STOP: TOTAL NO. OF ITERATIONS REACHED LIMIT\n",
      "\n",
      "Increase the number of iterations to improve the convergence (max_iter=1000).\n",
      "You might also want to scale the data as shown in:\n",
      "    https://scikit-learn.org/stable/modules/preprocessing.html\n",
      "Please also refer to the documentation for alternative solver options:\n",
      "    https://scikit-learn.org/stable/modules/linear_model.html#logistic-regression\n",
      "  n_iter_i = _check_optimize_result(\n"
     ]
    }
   ],
   "source": [
    "X_train, X_val, y_train, y_val = train_test_split(X_processed, y_encoded, test_size=0.2, random_state=42, stratify=y_encoded)\n",
    "\n",
    "print(f\"X_train shape: {X_train.shape}\")\n",
    "print(f\"y_train shape: {y_train.shape}\")\n",
    "print(f\"Clases en y_train: {np.unique(y_train)}\")\n",
    "\n",
    "# Modelo optimizado para memoria\n",
    "model = LogisticRegression(\n",
    "    max_iter=1000, \n",
    "    multi_class='multinomial', \n",
    "    solver='lbfgs',\n",
    "    C=1.0,  # Regularización para evitar sobreajuste\n",
    "    random_state=42\n",
    ")\n",
    "\n",
    "print(\"Entrenando modelo...\")\n",
    "model.fit(X_train, y_train)\n",
    "print(\"✅ Modelo entrenado correctamente\")\n"
   ]
  },
  {
   "cell_type": "markdown",
   "id": "c14d4b2a",
   "metadata": {},
   "source": [
    "Evaluación del modelo"
   ]
  },
  {
   "cell_type": "code",
   "execution_count": null,
   "id": "64cd7072",
   "metadata": {},
   "outputs": [
    {
     "name": "stdout",
     "output_type": "stream",
     "text": [
      "\n",
      "Accuracy en validación: 0.3363249097472924\n",
      "\n",
      "REPORTE DE CLASIFICACIÓN:\n",
      "              precision    recall  f1-score   support\n",
      "\n",
      "        alto       0.41      0.58      0.48     35124\n",
      "        bajo       0.31      0.28      0.30     34597\n",
      "  medio-alto       0.27      0.13      0.17     34324\n",
      "  medio-bajo       0.30      0.35      0.32     34455\n",
      "\n",
      "    accuracy                           0.34    138500\n",
      "   macro avg       0.32      0.34      0.32    138500\n",
      "weighted avg       0.32      0.34      0.32    138500\n",
      "\n",
      "              precision    recall  f1-score   support\n",
      "\n",
      "        alto       0.41      0.58      0.48     35124\n",
      "        bajo       0.31      0.28      0.30     34597\n",
      "  medio-alto       0.27      0.13      0.17     34324\n",
      "  medio-bajo       0.30      0.35      0.32     34455\n",
      "\n",
      "    accuracy                           0.34    138500\n",
      "   macro avg       0.32      0.34      0.32    138500\n",
      "weighted avg       0.32      0.34      0.32    138500\n",
      "\n"
     ]
    },
    {
     "data": {
      "image/png": "[encoded data removed]",
      "text/plain": [
       "<Figure size 800x600 with 2 Axes>"
      ]
     },
     "metadata": {},
     "output_type": "display_data"
    }
   ],
   "source": [
    "y_pred = model.predict(X_val)\n",
    "\n",
    "# Convertir predicciones de vuelta a labels originales para mostrar\n",
    "y_val_labels = label_encoder.inverse_transform(y_val)\n",
    "y_pred_labels = label_encoder.inverse_transform(y_pred)\n",
    "\n",
    "print(\"\\nAccuracy en validación:\", accuracy_score(y_val, y_pred))\n",
    "print(\"\\nREPORTE DE CLASIFICACIÓN:\")\n",
    "print(classification_report(y_val_labels, y_pred_labels))\n",
    "\n",
    "# Matriz de confusión con labels originales\n",
    "cm = confusion_matrix(y_val_labels, y_pred_labels, labels=label_encoder.classes_)\n",
    "plt.figure(figsize=(8, 6))\n",
    "sns.heatmap(cm, annot=True, fmt=\"d\", cmap=\"Blues\", \n",
    "            xticklabels=label_encoder.classes_, \n",
    "            yticklabels=label_encoder.classes_)\n",
    "plt.title(\"Logistic Regression - Matriz de Confusión\")\n",
    "plt.xlabel(\"Predicted\")\n",
    "plt.ylabel(\"True\")\n",
    "plt.show()"
   ]
  },
  {
   "cell_type": "markdown",
   "id": "61ae1db5",
   "metadata": {},
   "source": [
    "Test y submisión"
   ]
  },
  {
   "cell_type": "code",
   "execution_count": null,
   "id": "4409de51",
   "metadata": {},
   "outputs": [],
   "source": [
    "X_test = test_df.drop(columns=['RENDIMIENTO_GLOBAL'], errors='ignore')\n",
    "\n",
    "# Aplicar el mismo preprocesamiento que al train\n",
    "for col in categorical_features:\n",
    "    if col in X_test.columns:\n",
    "        X_test[col] = X_test[col].fillna(\"Unknown\")\n",
    "        \n",
    "for col in numeric_features:\n",
    "    if col in X_test.columns:\n",
    "        X_test[col] = X_test[col].fillna(X[col].median())\n",
    "\n",
    "# Aplicar el mismo procesamiento categórico optimizado\n",
    "X_test_processed = X_test.copy()\n",
    "\n",
    "for col in categorical_features:\n",
    "    if col in X_test_processed.columns and col in categorical_encoders:\n",
    "        # Obtener las categorías del encoder de entrenamiento\n",
    "        train_categories = categorical_encoders[col].classes_\n",
    "        \n",
    "        # Aplicar la misma lógica de top categorías\n",
    "        X_test_processed[col] = X_test_processed[col].apply(\n",
    "            lambda x: x if x in train_categories else \"Other\"\n",
    "        )\n",
    "        \n",
    "        # Aplicar el encoder entrenado\n",
    "        try:\n",
    "            X_test_processed[col] = categorical_encoders[col].transform(X_test_processed[col])\n",
    "        except ValueError:\n",
    "            # Si hay categorías nuevas, asignar valor por defecto\n",
    "            X_test_processed[col] = X_test_processed[col].apply(\n",
    "                lambda x: categorical_encoders[col].transform([x])[0] \n",
    "                if x in train_categories else 0\n",
    "            )\n",
    "\n",
    "# Convertir a tipos de datos eficientes\n",
    "for col in X_test_processed.columns:\n",
    "    if X_test_processed[col].dtype == 'float64':\n",
    "        X_test_processed[col] = X_test_processed[col].astype('float32')\n",
    "    elif X_test_processed[col].dtype == 'int64':\n",
    "        X_test_processed[col] = X_test_processed[col].astype('int32')\n",
    "\n",
    "# Asegurar que test tenga las mismas columnas que train\n",
    "X_test_processed = X_test_processed.reindex(columns=X_processed.columns, fill_value=0)\n",
    "\n",
    "print(f\"X_test_processed shape: {X_test_processed.shape}\")\n",
    "print(f\"X_train shape: {X_processed.shape}\")\n",
    "\n",
    "print(\"\\nGenerando predicciones sobre test...\")\n",
    "test_pred_encoded = model.predict(X_test_processed)\n",
    "\n",
    "# Convertir predicciones de vuelta a labels originales\n",
    "test_pred = label_encoder.inverse_transform(test_pred_encoded)\n",
    "\n",
    "# Detección de columna ID\n",
    "test_id_col = None\n",
    "for possible_id in [\"ID\", \"id\", \"index\", \"row_id\"]:\n",
    "    if possible_id in test_df.columns:\n",
    "        test_id_col = possible_id\n",
    "        break\n",
    "\n",
    "if test_id_col is None:\n",
    "    print(\"⚠ No se encontró columna ID, generando índices como ID\")\n",
    "    test_ids = range(len(test_pred))\n",
    "    test_id_col = \"ID\"\n",
    "else:\n",
    "    test_ids = test_df[test_id_col]\n",
    "\n",
    "submission = pd.DataFrame({\n",
    "    test_id_col: test_ids,\n",
    "    \"RENDIMIENTO_GLOBAL\": test_pred\n",
    "})\n",
    "\n",
    "print(f\"\\nDistribución de predicciones:\")\n",
    "print(pd.Series(test_pred).value_counts())\n",
    "\n",
    "submission.to_csv(\"submission_logistic.csv\", index=False)\n",
    "print(f\"\\n✅ 'submission_logistic.csv' generado correctamente con {submission.shape[0]} filas\")\n",
    "print(f\"Archivo guardado en: {os.path.abspath('submission_logistic.csv')}\")"
   ]
  }
 ],
 "metadata": {
  "kernelspec": {
   "display_name": "Python 3",
   "language": "python",
   "name": "python3"
  },
  "language_info": {
   "codemirror_mode": {
    "name": "ipython",
    "version": 3
   },
   "file_extension": ".py",
   "mimetype": "text/x-python",
   "name": "python",
   "nbconvert_exporter": "python",
   "pygments_lexer": "ipython3",
   "version": "3.13.2"
  }
 },
 "nbformat": 4,
 "nbformat_minor": 5
}
