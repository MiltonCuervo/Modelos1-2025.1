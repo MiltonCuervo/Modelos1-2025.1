{
 "cells": [
  {
   "cell_type": "code",
   "execution_count": null,
   "id": "8b587ce5",
   "metadata": {},
   "outputs": [],
   "source": [
    "%pip install -q pandas scikit-learn catboost matplotlib seaborn\n",
    "\n",
    "import pandas as pd\n",
    "import numpy as np\n",
    "import os\n",
    "import seaborn as sns\n",
    "import matplotlib.pyplot as plt\n",
    "\n",
    "from sklearn.model_selection import train_test_split\n",
    "from sklearn.metrics import accuracy_score, classification_report, confusion_matrix\n",
    "from sklearn.preprocessing import LabelEncoder\n",
    "\n",
    "from catboost import CatBoostClassifier\n"
   ]
  },
  {
   "cell_type": "markdown",
   "id": "09cdcc36",
   "metadata": {},
   "source": [
    "Datos de la competencia"
   ]
  },
  {
   "cell_type": "code",
   "execution_count": null,
   "id": "f6e6f5b6",
   "metadata": {},
   "outputs": [],
   "source": [
    "!mkdir -p ~/.kaggle\n",
    "!mv kaggle.json ~/.kaggle/\n",
    "!chmod 600 ~/.kaggle/kaggle.json\n",
    "!kaggle competitions download -c udea-ai-4-eng-20251-pruebas-saber-pro-colombia\n",
    "!unzip -l udea-ai-4-eng-20251-pruebas-saber-pro-colombia.zip\n",
    "!unzip udea-ai-4-eng-20251-pruebas-saber-pro-colombia.zip"
   ]
  },
  {
   "cell_type": "markdown",
   "id": "5b57bc32",
   "metadata": {},
   "source": [
    "Carga de datos"
   ]
  },
  {
   "cell_type": "code",
   "execution_count": null,
   "id": "f1d0cb66",
   "metadata": {},
   "outputs": [
    {
     "name": "stdout",
     "output_type": "stream",
     "text": [
      "Train shape: (692500, 21)\n",
      "Test shape: (296786, 20)\n",
      "\n",
      "Columnas del dataset:\n",
      "['ID', 'PERIODO', 'ESTU_PRGM_ACADEMICO', 'ESTU_PRGM_DEPARTAMENTO', 'ESTU_VALORMATRICULAUNIVERSIDAD', 'ESTU_HORASSEMANATRABAJA', 'FAMI_ESTRATOVIVIENDA', 'FAMI_TIENEINTERNET', 'FAMI_EDUCACIONPADRE', 'FAMI_TIENELAVADORA', 'FAMI_TIENEAUTOMOVIL', 'ESTU_PRIVADO_LIBERTAD', 'ESTU_PAGOMATRICULAPROPIO', 'FAMI_TIENECOMPUTADOR', 'FAMI_TIENEINTERNET.1', 'FAMI_EDUCACIONMADRE', 'RENDIMIENTO_GLOBAL', 'coef_1', 'coef_2', 'coef_3', 'coef_4']\n",
      "\n",
      "Clases en RENDIMIENTO_GLOBAL:\n",
      "RENDIMIENTO_GLOBAL\n",
      "alto          175619\n",
      "bajo          172987\n",
      "medio-bajo    172275\n",
      "medio-alto    171619\n",
      "Name: count, dtype: int64\n"
     ]
    }
   ],
   "source": [
    "train_df = pd.read_csv(\"train.csv\")\n",
    "test_df = pd.read_csv(\"test.csv\")\n",
    "\n",
    "print(f\"Train shape: {train_df.shape}\")\n",
    "print(f\"Test shape: {test_df.shape}\")\n",
    "\n",
    "# Exploración rápida\n",
    "print(f\"\\nColumnas del dataset:\")\n",
    "print(train_df.columns.tolist())\n",
    "print(f\"\\nClases en RENDIMIENTO_GLOBAL:\")\n",
    "print(train_df[\"RENDIMIENTO_GLOBAL\"].value_counts())"
   ]
  },
  {
   "cell_type": "markdown",
   "id": "77f3deb2",
   "metadata": {},
   "source": [
    "Limpieza y preparación"
   ]
  },
  {
   "cell_type": "code",
   "execution_count": null,
   "id": "05bf64a0",
   "metadata": {},
   "outputs": [
    {
     "name": "stdout",
     "output_type": "stream",
     "text": [
      "Variables predictoras: (692500, 20)\n",
      "Variable objetivo: (692500,)\n",
      "\n",
      "Columnas categóricas: 14\n",
      "  - ESTU_PRGM_ACADEMICO: 948 valores únicos\n",
      "  - ESTU_PRGM_DEPARTAMENTO: 31 valores únicos\n",
      "  - ESTU_VALORMATRICULAUNIVERSIDAD: 8 valores únicos\n",
      "  - ESTU_HORASSEMANATRABAJA: 5 valores únicos\n",
      "  - FAMI_ESTRATOVIVIENDA: 7 valores únicos\n",
      "\n",
      "Columnas numéricas: 6\n",
      "  - ESTU_PRGM_DEPARTAMENTO: 31 valores únicos\n",
      "  - ESTU_VALORMATRICULAUNIVERSIDAD: 8 valores únicos\n",
      "  - ESTU_HORASSEMANATRABAJA: 5 valores únicos\n",
      "  - FAMI_ESTRATOVIVIENDA: 7 valores únicos\n",
      "\n",
      "Columnas numéricas: 6\n",
      "\n",
      "Índices categóricos para CatBoost: 14 columnas\n",
      "✅ Datos preparados correctamente\n",
      "\n",
      "Índices categóricos para CatBoost: 14 columnas\n",
      "✅ Datos preparados correctamente\n"
     ]
    }
   ],
   "source": [
    "X = train_df.drop(columns=[\"RENDIMIENTO_GLOBAL\"])\n",
    "y = train_df[\"RENDIMIENTO_GLOBAL\"]\n",
    "\n",
    "print(f\"Variables predictoras: {X.shape}\")\n",
    "print(f\"Variable objetivo: {y.shape}\")\n",
    "\n",
    "# Detectar columnas categóricas\n",
    "categorical_features = X.select_dtypes(include=['object', 'category']).columns.tolist()\n",
    "print(f\"\\nColumnas categóricas: {len(categorical_features)}\")\n",
    "for col in categorical_features[:5]:  # Mostrar solo las primeras 5\n",
    "    print(f\"  - {col}: {X[col].nunique()} valores únicos\")\n",
    "\n",
    "# Detectar columnas numéricas\n",
    "numeric_features = X.select_dtypes(include=['int64', 'float64']).columns.tolist()\n",
    "print(f\"\\nColumnas numéricas: {len(numeric_features)}\")\n",
    "\n",
    "# Limpiar NaN categóricas\n",
    "for col in categorical_features:\n",
    "    X[col] = X[col].fillna(\"Unknown\")\n",
    "\n",
    "# Limpiar NaN numéricas\n",
    "for col in numeric_features:\n",
    "    X[col] = X[col].fillna(X[col].median())\n",
    "\n",
    "# Obtener índices categóricos para CatBoost\n",
    "categorical_indices = [X.columns.get_loc(col) for col in categorical_features]\n",
    "print(f\"\\nÍndices categóricos para CatBoost: {len(categorical_indices)} columnas\")\n",
    "print(\"✅ Datos preparados correctamente\")"
   ]
  },
  {
   "cell_type": "markdown",
   "id": "48c76492",
   "metadata": {},
   "source": [
    "Entrenamiento del modelo"
   ]
  },
  {
   "cell_type": "code",
   "execution_count": null,
   "id": "df9f3096",
   "metadata": {},
   "outputs": [
    {
     "name": "stdout",
     "output_type": "stream",
     "text": [
      "X_train shape: (554000, 20)\n",
      "X_val shape: (138500, 20)\n",
      "Distribución de clases en entrenamiento:\n",
      "RENDIMIENTO_GLOBAL\n",
      "alto          140495\n",
      "bajo          138390\n",
      "medio-bajo    137820\n",
      "medio-alto    137295\n",
      "Name: count, dtype: int64\n",
      "\n",
      "🚀 Entrenando modelo CatBoost...\n",
      "0:\tlearn: 0.3959513\ttest: 0.3946931\tbest: 0.3946931 (0)\ttotal: 4.79s\tremaining: 39m 48s\n",
      "0:\tlearn: 0.3959513\ttest: 0.3946931\tbest: 0.3946931 (0)\ttotal: 4.79s\tremaining: 39m 48s\n",
      "50:\tlearn: 0.4373809\ttest: 0.4378339\tbest: 0.4378484 (49)\ttotal: 3m 14s\tremaining: 28m 29s\n",
      "50:\tlearn: 0.4373809\ttest: 0.4378339\tbest: 0.4378484 (49)\ttotal: 3m 14s\tremaining: 28m 29s\n",
      "100:\tlearn: 0.4422365\ttest: 0.4424188\tbest: 0.4425199 (96)\ttotal: 6m 26s\tremaining: 25m 28s\n",
      "100:\tlearn: 0.4422365\ttest: 0.4424188\tbest: 0.4425199 (96)\ttotal: 6m 26s\tremaining: 25m 28s\n",
      "150:\tlearn: 0.4449007\ttest: 0.4440939\tbest: 0.4440939 (150)\ttotal: 9m 50s\tremaining: 22m 44s\n",
      "150:\tlearn: 0.4449007\ttest: 0.4440939\tbest: 0.4440939 (150)\ttotal: 9m 50s\tremaining: 22m 44s\n",
      "200:\tlearn: 0.4467599\ttest: 0.4452419\tbest: 0.4453357 (197)\ttotal: 13m 26s\tremaining: 19m 59s\n",
      "200:\tlearn: 0.4467599\ttest: 0.4452419\tbest: 0.4453357 (197)\ttotal: 13m 26s\tremaining: 19m 59s\n",
      "250:\tlearn: 0.4481498\ttest: 0.4453863\tbest: 0.4455957 (215)\ttotal: 16m 21s\tremaining: 16m 13s\n",
      "250:\tlearn: 0.4481498\ttest: 0.4453863\tbest: 0.4455957 (215)\ttotal: 16m 21s\tremaining: 16m 13s\n",
      "300:\tlearn: 0.4493177\ttest: 0.4463538\tbest: 0.4463538 (300)\ttotal: 20m 10s\tremaining: 13m 20s\n",
      "300:\tlearn: 0.4493177\ttest: 0.4463538\tbest: 0.4463538 (300)\ttotal: 20m 10s\tremaining: 13m 20s\n",
      "350:\tlearn: 0.4504152\ttest: 0.4468231\tbest: 0.4468664 (338)\ttotal: 23m 31s\tremaining: 9m 59s\n",
      "350:\tlearn: 0.4504152\ttest: 0.4468231\tbest: 0.4468664 (338)\ttotal: 23m 31s\tremaining: 9m 59s\n",
      "400:\tlearn: 0.4512888\ttest: 0.4465848\tbest: 0.4470542 (370)\ttotal: 26m 59s\tremaining: 6m 39s\n",
      "400:\tlearn: 0.4512888\ttest: 0.4465848\tbest: 0.4470542 (370)\ttotal: 26m 59s\tremaining: 6m 39s\n",
      "Stopped by overfitting detector  (50 iterations wait)\n",
      "\n",
      "bestTest = 0.4470541516\n",
      "bestIteration = 370\n",
      "\n",
      "Shrink model to first 371 iterations.\n",
      "Stopped by overfitting detector  (50 iterations wait)\n",
      "\n",
      "bestTest = 0.4470541516\n",
      "bestIteration = 370\n",
      "\n",
      "Shrink model to first 371 iterations.\n",
      "✅ Modelo entrenado correctamente\n",
      "✅ Modelo entrenado correctamente\n"
     ]
    }
   ],
   "source": [
    "X_train, X_val, y_train, y_val = train_test_split(X, y, test_size=0.2, random_state=42, stratify=y)\n",
    "\n",
    "print(f\"X_train shape: {X_train.shape}\")\n",
    "print(f\"X_val shape: {X_val.shape}\")\n",
    "print(f\"Distribución de clases en entrenamiento:\")\n",
    "print(y_train.value_counts())\n",
    "\n",
    "# Configuración del modelo CatBoost\n",
    "model = CatBoostClassifier(\n",
    "    iterations=500,\n",
    "    learning_rate=0.1,\n",
    "    depth=6,\n",
    "    cat_features=categorical_indices,\n",
    "    random_seed=42,\n",
    "    verbose=50,  # Mostrar progreso cada 50 iteraciones\n",
    "    early_stopping_rounds=50,\n",
    "    use_best_model=True,\n",
    "    eval_metric='Accuracy',\n",
    "    task_type='CPU',\n",
    "    bootstrap_type='Bayesian',\n",
    "    od_type='Iter'\n",
    ")\n",
    "\n",
    "print(\"\\n🚀 Entrenando modelo CatBoost...\")\n",
    "model.fit(X_train, y_train, eval_set=(X_val, y_val), plot=False)\n",
    "print(\"✅ Modelo entrenado correctamente\")"
   ]
  },
  {
   "cell_type": "markdown",
   "id": "0028a533",
   "metadata": {},
   "source": [
    "Evaluación del modelo"
   ]
  },
  {
   "cell_type": "code",
   "execution_count": null,
   "id": "c1a9a486",
   "metadata": {},
   "outputs": [
    {
     "name": "stdout",
     "output_type": "stream",
     "text": [
      "RESULTADOS DE EVALUACIÓN:\n",
      "Accuracy en validación: 0.4471\n",
      "              precision    recall  f1-score   support\n",
      "\n",
      "        alto       0.58      0.63      0.60     35124\n",
      "        bajo       0.48      0.58      0.52     34597\n",
      "  medio-alto       0.34      0.30      0.32     34324\n",
      "  medio-bajo       0.34      0.27      0.30     34455\n",
      "\n",
      "    accuracy                           0.45    138500\n",
      "   macro avg       0.43      0.45      0.44    138500\n",
      "weighted avg       0.43      0.45      0.44    138500\n",
      "\n",
      "              precision    recall  f1-score   support\n",
      "\n",
      "        alto       0.58      0.63      0.60     35124\n",
      "        bajo       0.48      0.58      0.52     34597\n",
      "  medio-alto       0.34      0.30      0.32     34324\n",
      "  medio-bajo       0.34      0.27      0.30     34455\n",
      "\n",
      "    accuracy                           0.45    138500\n",
      "   macro avg       0.43      0.45      0.44    138500\n",
      "weighted avg       0.43      0.45      0.44    138500\n",
      "\n"
     ]
    },
    {
     "data": {
      "image/png": "[encoded data removed]",
      "text/plain": [
       "<Figure size 800x600 with 2 Axes>"
      ]
     },
     "metadata": {},
     "output_type": "display_data"
    }
   ],
   "source": [
    "y_pred = model.predict(X_val)\n",
    "\n",
    "print(f\"RESULTADOS DE EVALUACIÓN:\")\n",
    "print(f\"Accuracy en validación: {accuracy_score(y_val, y_pred):.4f}\")\n",
    "\n",
    "print(classification_report(y_val, y_pred))\n",
    "\n",
    "# Matriz de confusión\n",
    "cm = confusion_matrix(y_val, y_pred)\n",
    "plt.figure(figsize=(8, 6))\n",
    "sns.heatmap(cm, annot=True, fmt=\"d\", cmap=\"Blues\", \n",
    "            xticklabels=sorted(y.unique()), \n",
    "            yticklabels=sorted(y.unique()))\n",
    "plt.title(\"CatBoost - Matriz de Confusión\")\n",
    "plt.xlabel(\"Predicted\")\n",
    "plt.ylabel(\"True\")\n",
    "plt.show()"
   ]
  },
  {
   "cell_type": "markdown",
   "id": "dd45a360",
   "metadata": {},
   "source": [
    "Test y submisión"
   ]
  },
  {
   "cell_type": "code",
   "execution_count": null,
   "id": "5cdb12d8",
   "metadata": {},
   "outputs": [],
   "source": [
    "X_test = test_df.drop(columns=['RENDIMIENTO_GLOBAL'], errors='ignore')\n",
    "\n",
    "print(f\"Test shape original: {X_test.shape}\")\n",
    "\n",
    "# Aplicar el mismo preprocesamiento que al train\n",
    "for col in categorical_features:\n",
    "    if col in X_test.columns:\n",
    "        X_test[col] = X_test[col].fillna(\"Unknown\")\n",
    "        \n",
    "for col in numeric_features:\n",
    "    if col in X_test.columns:\n",
    "        X_test[col] = X_test[col].fillna(X[col].median())\n",
    "\n",
    "# Asegurar que test tenga las mismas columnas que train\n",
    "X_test = X_test.reindex(columns=X.columns, fill_value=0)\n",
    "\n",
    "print(f\"Test shape procesado: {X_test.shape}\")\n",
    "print(\" Datos de test preparados\")\n",
    "\n",
    "print(\"\\n Generando predicciones sobre test\")\n",
    "test_pred = model.predict(X_test)\n",
    "\n",
    "print(f\"Tipo de test_pred: {type(test_pred)}\")\n",
    "print(f\"Shape de test_pred: {test_pred.shape if hasattr(test_pred, 'shape') else 'No tiene shape'}\")\n",
    "print(f\"Primeras 5 predicciones: {test_pred[:5]}\")\n",
    "\n",
    "# Asegurar que test_pred sea un array 1D\n",
    "if hasattr(test_pred, 'reshape'):\n",
    "    test_pred = test_pred.flatten()\n",
    "else:\n",
    "    test_pred = np.array(test_pred).flatten()\n",
    "\n",
    "# Detección de columna ID\n",
    "test_id_col = None\n",
    "for possible_id in [\"ID\", \"id\", \"index\", \"row_id\"]:\n",
    "    if possible_id in test_df.columns:\n",
    "        test_id_col = possible_id\n",
    "        break\n",
    "\n",
    "if test_id_col is None:\n",
    "    print(\" No se encontró columna ID, generando índices como ID\")\n",
    "    test_ids = np.arange(len(test_pred))  # Usar numpy array directamente\n",
    "    test_id_col = \"ID\"\n",
    "else:\n",
    "    test_ids = test_df[test_id_col].values.flatten()  # Asegurar 1D\n",
    "    print(f\" Usando columna '{test_id_col}' como ID\")\n",
    "\n",
    "# Debugging detallado\n",
    "print(f\"\\nDEBUGGING:\")\n",
    "print(f\"test_ids tipo: {type(test_ids)}\")\n",
    "print(f\"test_ids shape: {test_ids.shape if hasattr(test_ids, 'shape') else len(test_ids)}\")\n",
    "print(f\"test_pred tipo: {type(test_pred)}\")\n",
    "print(f\"test_pred shape: {test_pred.shape if hasattr(test_pred, 'shape') else len(test_pred)}\")\n",
    "print(f\"test_ids ndim: {test_ids.ndim if hasattr(test_ids, 'ndim') else 'N/A'}\")\n",
    "print(f\"test_pred ndim: {test_pred.ndim if hasattr(test_pred, 'ndim') else 'N/A'}\")\n",
    "\n",
    "# Verificar longitudes\n",
    "if len(test_ids) != len(test_pred):\n",
    "    print(f\" Error: Longitudes no coinciden - IDs: {len(test_ids)}, Predicciones: {len(test_pred)}\")\n",
    "else:\n",
    "    print(f\" Longitudes coinciden: {len(test_ids)}\")\n",
    "\n",
    "# Crear submission con conversión explícita\n",
    "try:\n",
    "    submission = pd.DataFrame({\n",
    "        test_id_col: list(test_ids),  # Convertir explícitamente a lista\n",
    "        \"RENDIMIENTO_GLOBAL\": list(test_pred)  # Convertir explícitamente a lista\n",
    "    })\n",
    "    \n",
    "    print(f\"\\n Distribución de predicciones:\")\n",
    "    print(pd.Series(test_pred).value_counts())\n",
    "\n",
    "    submission.to_csv(\"submission_catboost.csv\", index=False)\n",
    "    print(f\"\\n 'submission_catboost.csv' generado correctamente con {submission.shape[0]} filas\")\n",
    "    print(f\" Archivo guardado en: {os.path.abspath('submission_catboost.csv')}\")\n",
    "    \n",
    "except Exception as e:\n",
    "    print(f\" Error al crear DataFrame: {e}\")\n",
    "    print(f\"Intentando crear archivo manualmente...\")\n",
    "    \n",
    "    # Crear archivo CSV manualmente como fallback\n",
    "    with open(\"submission_catboost.csv\", \"w\") as f:\n",
    "        f.write(f\"{test_id_col},RENDIMIENTO_GLOBAL\\n\")\n",
    "        for i in range(len(test_pred)):\n",
    "            f.write(f\"{test_ids[i]},{test_pred[i]}\\n\")\n",
    "    print(\"Archivo CSV creado manualmente\")"
   ]
  }
 ],
 "metadata": {
  "kernelspec": {
   "display_name": "Python 3",
   "language": "python",
   "name": "python3"
  },
  "language_info": {
   "codemirror_mode": {
    "name": "ipython",
    "version": 3
   },
   "file_extension": ".py",
   "mimetype": "text/x-python",
   "name": "python",
   "nbconvert_exporter": "python",
   "pygments_lexer": "ipython3",
   "version": "3.13.2"
  }
 },
 "nbformat": 4,
 "nbformat_minor": 5
}
